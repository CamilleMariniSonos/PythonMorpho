{
 "cells": [
  {
   "cell_type": "code",
   "execution_count": null,
   "metadata": {
    "collapsed": true
   },
   "outputs": [],
   "source": [
    "from __future__ import division, print_function\n",
    "import numpy as np\n",
    "import matplotlib.pyplot as plt\n",
    "\n",
    "plt.rcParams['image.cmap'] = 'gray'\n",
    "plt.rcParams['image.interpolation'] = 'none'\n",
    "\n",
    "%matplotlib inline"
   ]
  },
  {
   "cell_type": "markdown",
   "metadata": {},
   "source": [
    "# OpenCV\n",
    "Nous vous proposons ici une rapide présentation de OpenCV. Pour plus d'informations sur cette librairie, nous vous renvoyons vers la page principale de la librairie :\n",
    "http://docs.opencv.org/\n",
    "\n",
    "Cette section est basée sur les tutoriels proposés par OpenCV :\n",
    "https://opencv-python-tutroals.readthedocs.io/en/latest/py_tutorials/py_tutorials.html"
   ]
  },
  {
   "cell_type": "markdown",
   "metadata": {},
   "source": [
    "## 1. Basiques\n",
    "Les fonctions de `OpenCV` sont incluses dans le module `cv2`. Elles sont directement définis de la version \n",
    "C++ d'`OpenCV`. Cette librairie n'est donc pas purement programmer en Python et le portage peut parfois poser quelques problèmes."
   ]
  },
  {
   "cell_type": "code",
   "execution_count": null,
   "metadata": {
    "collapsed": true
   },
   "outputs": [],
   "source": [
    "import cv2"
   ]
  },
  {
   "cell_type": "markdown",
   "metadata": {},
   "source": [
    "La fonction `imread` permet de lire une image."
   ]
  },
  {
   "cell_type": "code",
   "execution_count": null,
   "metadata": {
    "collapsed": true
   },
   "outputs": [],
   "source": [
    "bgr_img = cv2.imread('exo_img/pillow/input/iguanes.png')"
   ]
  },
  {
   "cell_type": "markdown",
   "metadata": {},
   "source": [
    "Tout comme `skimage`, OpenCV convertit les images directement en tableaux 2D `numpy` ce qui permet de pouvoir utiliser les fonctions offertes par `numpy` et `scipy`, ainsi qu'une meilleure gestion des images."
   ]
  },
  {
   "cell_type": "code",
   "execution_count": null,
   "metadata": {
    "collapsed": false
   },
   "outputs": [],
   "source": [
    "type(bgr_img)"
   ]
  },
  {
   "cell_type": "code",
   "execution_count": null,
   "metadata": {
    "collapsed": false
   },
   "outputs": [],
   "source": [
    "bgr_img.shape"
   ]
  },
  {
   "cell_type": "code",
   "execution_count": null,
   "metadata": {
    "collapsed": false
   },
   "outputs": [],
   "source": [
    "bgr_img.dtype, bgr_img.min(), bgr_img.max()"
   ]
  },
  {
   "cell_type": "markdown",
   "metadata": {},
   "source": [
    "Attention néanmoins car contrairement aux librairies classiques OpenCV lit les images en `B, G, R`"
   ]
  },
  {
   "cell_type": "code",
   "execution_count": null,
   "metadata": {
    "collapsed": false
   },
   "outputs": [],
   "source": [
    "plt.imshow(bgr_img);"
   ]
  },
  {
   "cell_type": "markdown",
   "metadata": {},
   "source": [
    "La fonction `imwrite` permet de sauver l'image dans l'un des formats standard."
   ]
  },
  {
   "cell_type": "code",
   "execution_count": null,
   "metadata": {
    "collapsed": true
   },
   "outputs": [],
   "source": [
    "_ = cv2.imwrite('exo_img/pillow/input/iguanes-opencv.png', bgr_img)"
   ]
  },
  {
   "cell_type": "markdown",
   "metadata": {},
   "source": [
    "### Exercice\n",
    "Convertissez l'image BGR en image RGB."
   ]
  },
  {
   "cell_type": "code",
   "execution_count": null,
   "metadata": {
    "collapsed": false
   },
   "outputs": [],
   "source": [
    "b,g,r = cv2.split(bgr_img)\n",
    "rgb_img = cv2.merge((r,g,b))\n",
    "plt.imshow(rgb_img);"
   ]
  },
  {
   "cell_type": "markdown",
   "metadata": {},
   "source": [
    "Il est aussi possible d'utiliser des convertisseurs directement implémentés dans OpenCV :"
   ]
  },
  {
   "cell_type": "code",
   "execution_count": null,
   "metadata": {
    "collapsed": false
   },
   "outputs": [],
   "source": [
    "rgb_img = cv2.cvtColor(bgr_img, cv2.COLOR_BGR2RGB)\n",
    "plt.imshow(rgb_img);"
   ]
  },
  {
   "cell_type": "code",
   "execution_count": null,
   "metadata": {
    "collapsed": false
   },
   "outputs": [],
   "source": [
    "gray_img = cv2.cvtColor(bgr_img, cv2.COLOR_BGR2GRAY)\n",
    "plt.imshow(gray_img);"
   ]
  },
  {
   "cell_type": "markdown",
   "metadata": {},
   "source": [
    "## 1.2 Filtres\n",
    "`OpenCv` propose plusieurs filtres qui peuvent s'appliquer directement aux images."
   ]
  },
  {
   "cell_type": "code",
   "execution_count": null,
   "metadata": {
    "collapsed": false
   },
   "outputs": [],
   "source": [
    "median = cv2.medianBlur(gray_img[100:300, 100:300], 5)\n",
    "plt.imshow(median);"
   ]
  },
  {
   "cell_type": "markdown",
   "metadata": {},
   "source": [
    "Il donne également la possibilités de créer ses propres filtres par l'intermédiaire de la fonction `filter2D`."
   ]
  },
  {
   "cell_type": "code",
   "execution_count": null,
   "metadata": {
    "collapsed": false
   },
   "outputs": [],
   "source": [
    "kernel = np.ones((5,5),np.float32)/25\n",
    "dst = cv2.filter2D(gray_img[100:300, 100:300],-1,kernel)\n",
    "plt.imshow(dst);"
   ]
  },
  {
   "cell_type": "markdown",
   "metadata": {},
   "source": [
    "Comme nous le verrons avec `skimage`, il est néanmoins préférable d'utiliser la fonction `convolve` fournie par `scipy`. Cette dernière est en effet optimisée pour fonctionner avec des tableaux 2D de `numpy`."
   ]
  },
  {
   "cell_type": "markdown",
   "metadata": {},
   "source": [
    "### Exercice\n",
    "Ajouter du bruit blanc et poivre et sel à une image puis appliquer un filtre bilateral en utilisant `cv2.bilateralFilter`."
   ]
  },
  {
   "cell_type": "code",
   "execution_count": null,
   "metadata": {
    "collapsed": false
   },
   "outputs": [],
   "source": [
    "# Ajout du bruit\n",
    "width, length = gray_img.shape[:2]\n",
    "\n",
    "sigma, p = 10, 0.1\n",
    "noisy = gray_img + sigma * np.random.randn(width, length)\n",
    "\n",
    "r = np.random.rand(noisy.size) < p\n",
    "noisy.ravel()[r] = 255 * np.round(np.random.rand(r.sum()))\n",
    "noisy[noisy < 0] = 0\n",
    "noisy[noisy > 255] = 255\n",
    "noisy = np.uint8(noisy)\n",
    "\n",
    "plt.imshow(noisy[100:300, 100:300]);"
   ]
  },
  {
   "cell_type": "code",
   "execution_count": null,
   "metadata": {
    "collapsed": false
   },
   "outputs": [],
   "source": [
    "blur = cv2.bilateralFilter(noisy, 18, 75, 75)\n",
    "plt.imshow(blur[100:300, 100:300]);"
   ]
  },
  {
   "cell_type": "markdown",
   "metadata": {},
   "source": [
    "## 1.3 Quelques fonctions d'OpenCV\n",
    "Le but de cette section est de montrer quelques possibilités offertes par OpenCV.\n",
    "Nous ne présentons ici qu'une toute petite partie de ces possibilités (il y en a évidemment beaucoup d'autres)."
   ]
  },
  {
   "cell_type": "markdown",
   "metadata": {},
   "source": [
    "Le détecteur de contour Canny :"
   ]
  },
  {
   "cell_type": "code",
   "execution_count": null,
   "metadata": {
    "collapsed": true
   },
   "outputs": [],
   "source": [
    "cv2.Canny?"
   ]
  },
  {
   "cell_type": "code",
   "execution_count": null,
   "metadata": {
    "collapsed": false
   },
   "outputs": [],
   "source": [
    "edges = cv2.Canny(gray_img, 100, 200)\n",
    "plt.imshow(edges[100:300, 100:300]);"
   ]
  },
  {
   "cell_type": "markdown",
   "metadata": {},
   "source": [
    "La création de pyramide d'échelles:"
   ]
  },
  {
   "cell_type": "code",
   "execution_count": null,
   "metadata": {
    "collapsed": false
   },
   "outputs": [],
   "source": [
    "lower_reso = cv2.pyrDown(cv2.pyrDown(rgb_img))\n",
    "plt.imshow(lower_reso[50:150, 50:150]);"
   ]
  },
  {
   "cell_type": "code",
   "execution_count": null,
   "metadata": {
    "collapsed": false
   },
   "outputs": [],
   "source": [
    "upper_reso = cv2.pyrUp(cv2.pyrUp(lower_reso))\n",
    "plt.imshow(upper_reso[200:600, 200:600]);"
   ]
  },
  {
   "cell_type": "markdown",
   "metadata": {},
   "source": [
    "Détections des coins de Harris :"
   ]
  },
  {
   "cell_type": "code",
   "execution_count": null,
   "metadata": {
    "collapsed": false
   },
   "outputs": [],
   "source": [
    "gray = np.float32(gray_img)\n",
    "dst = cv2.cornerHarris(gray,2,3,0.04)\n",
    "\n",
    "gray[dst > 0.01 * dst.max()] = 255\n",
    "plt.figure(figsize=(10,10))\n",
    "plt.subplot(121)\n",
    "plt.imshow(gray[200:600, 200:600]);\n",
    "plt.subplot(122)\n",
    "plt.imshow((dst > 1000000)[200:600, 200:600]);"
   ]
  },
  {
   "cell_type": "markdown",
   "metadata": {},
   "source": [
    "Pour un apperçu des possibilités offertes par `OpenCV` en Python, je vous encourage à aller voir directement le site des tutoriels `OpenCV`:\n",
    "https://opencv-python-tutroals.readthedocs.io/en/latest/py_tutorials/py_tutorials.html"
   ]
  }
 ],
 "metadata": {
  "kernelspec": {
   "display_name": "Python 2",
   "language": "python",
   "name": "python2"
  },
  "language_info": {
   "codemirror_mode": {
    "name": "ipython",
    "version": 2
   },
   "file_extension": ".py",
   "mimetype": "text/x-python",
   "name": "python",
   "nbconvert_exporter": "python",
   "pygments_lexer": "ipython2",
   "version": "2.7.11"
  }
 },
 "nbformat": 4,
 "nbformat_minor": 0
}
